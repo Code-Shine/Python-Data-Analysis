{
 "cells": [
  {
   "cell_type": "code",
   "execution_count": 3,
   "metadata": {},
   "outputs": [
    {
     "name": "stdout",
     "output_type": "stream",
     "text": [
      "(162, 11)\n",
      "(41, 11)\n"
     ]
    },
    {
     "name": "stderr",
     "output_type": "stream",
     "text": [
      "D:\\ProgramData\\Anaconda3\\lib\\site-packages\\ipykernel_launcher.py:16: FutureWarning: Method .as_matrix will be removed in a future version. Use .values instead.\n",
      "  app.launch_new_instance()\n"
     ]
    }
   ],
   "source": [
    "# -*- coding:utf-8 -*-\n",
    "# 9.2.2 模型构建\n",
    "### 1 模型输入 # 80% 做训练集、20% 做测试集\n",
    "\n",
    "# 数据抽样代码\n",
    "\n",
    "import pandas as pd\n",
    "from pandas import DataFrame,Series\n",
    "import random \n",
    "import numpy as np\n",
    "\n",
    "inputfile = 'moment.csv'\n",
    "data = pd.read_csv(inputfile, encoding='gbk')\n",
    "# 注意，此处不能用shuffle\n",
    "sampler = np.random.permutation(len(data))\n",
    "d = data.take(sampler).as_matrix()\n",
    "\n",
    "data_train = d[:int(0.8*len(data)),:] #选取前80%做训练集\n",
    "data_test = d[int(0.8*len(data)):,:] #选取后20%做测试集\n",
    "print(data_train.shape)\n",
    "print(data_test.shape)\n"
   ]
  },
  {
   "cell_type": "code",
   "execution_count": 9,
   "metadata": {},
   "outputs": [
    {
     "name": "stdout",
     "output_type": "stream",
     "text": [
      "(162, 9)\n",
      "(41, 9)\n",
      "(5, 5)\n",
      "(4, 4)\n",
      "0.9567901234567902\n",
      "0.9512195121951219\n"
     ]
    },
    {
     "name": "stderr",
     "output_type": "stream",
     "text": [
      "D:\\ProgramData\\Anaconda3\\lib\\site-packages\\sklearn\\svm\\base.py:193: FutureWarning: The default value of gamma will change from 'auto' to 'scale' in version 0.22 to account better for unscaled features. Set gamma explicitly to 'auto' or 'scale' to avoid this warning.\n",
      "  \"avoid this warning.\", FutureWarning)\n"
     ]
    }
   ],
   "source": [
    "# 构建支持向量机模型代码\n",
    "x_train = data_train[:, 2:]*30 #放大特征\n",
    "y_train = data_train[:,0].astype(int)\n",
    "x_test = data_test[:, 2:]*30 #放大特征\n",
    "y_test = data_test[:,0].astype(int)\n",
    "print(x_train.shape)\n",
    "print(x_test.shape)\n",
    "# 导入模型相关的支持向量机函数  建立并且训练模型\n",
    "from sklearn import svm \n",
    "model = svm.SVC()\n",
    "model.fit(x_train, y_train)\n",
    "import pickle\n",
    "pickle.dump(model, open('svcmodel.model','wb'))# model = pickle.load(open('svcmodel.model','rb'))\n",
    "\n",
    "# 导入输出相关的库，生成混淆矩阵\n",
    "from sklearn import metrics\n",
    "cm_train = metrics.confusion_matrix(y_train, model.predict(x_train)) # 训练样本的混淆矩阵\n",
    "cm_test = metrics.confusion_matrix(y_test, model.predict(x_test)) # 测试样本的混淆矩阵\n",
    "print(cm_train.shape)\n",
    "print(cm_test.shape)\n",
    "df1 = DataFrame(cm_train, index = range(1,6), columns=range(1,6))\n",
    "df2 = DataFrame(cm_test, index = range(1,5), columns=range(1,5))\n",
    "df1.to_excel('trainPre.xlsx')\n",
    "df2.to_excel('testPre.xlsx')\n",
    "print(model.score(x_train,y_train)) # 评价模型训练的准确率\n",
    "print(model.score(x_test,y_test)) # 评价模型测试的准确率"
   ]
  },
  {
   "cell_type": "code",
   "execution_count": 19,
   "metadata": {},
   "outputs": [
    {
     "data": {
      "text/plain": [
       "3    68\n",
       "1    38\n",
       "2    34\n",
       "4    18\n",
       "5     4\n",
       "Name: 0, dtype: int64"
      ]
     },
     "execution_count": 19,
     "metadata": {},
     "output_type": "execute_result"
    }
   ],
   "source": [
    "pd.DataFrame(model.predict(x_train))[0].value_counts()"
   ]
  },
  {
   "cell_type": "code",
   "execution_count": 18,
   "metadata": {},
   "outputs": [
    {
     "data": {
      "text/plain": [
       "3    16\n",
       "2    12\n",
       "1    10\n",
       "4     3\n",
       "Name: 0, dtype: int64"
      ]
     },
     "execution_count": 18,
     "metadata": {},
     "output_type": "execute_result"
    }
   ],
   "source": [
    "pd.DataFrame(model.predict(x_test))[0].value_counts()"
   ]
  },
  {
   "cell_type": "code",
   "execution_count": 13,
   "metadata": {},
   "outputs": [
    {
     "name": "stderr",
     "output_type": "stream",
     "text": [
      "UsageError: Line magic function `%` not found.\n"
     ]
    }
   ],
   "source": [
    "import matplotlib.pyplot as plt #导入作图库\n",
    "% matplotlib inline\n",
    "plt.matshow(cm_test, cmap=plt.cm.Greens) #画混淆矩阵图，配色风格使用cm.Greens，更多风格请参考官网。\n",
    "plt.colorbar() #颜色标签\n",
    "  \n",
    "for x in range(len(cm_test)): #数据标签\n",
    "    for y in range(len(cm_test)):\n",
    "        plt.annotate(cm_test[x,y], xy=(x, y), horizontalalignment='center', verticalalignment='center')\n",
    "\n",
    "plt.ylabel('True label') #坐标轴标签\n",
    "plt.xlabel('Predicted label') #坐标轴标签\n",
    "plt.show()\n",
    "\n",
    "# '''\n",
    "# 等价于下面这段\n",
    "# from cm_plot import *\n",
    "# cm_plot(y_train, model.predict(x_train)).show() # cm_plot是自定义的画混淆矩阵的函数\n",
    "# '''"
   ]
  },
  {
   "cell_type": "code",
   "execution_count": 11,
   "metadata": {},
   "outputs": [
    {
     "data": {
      "image/png": "[encoded data removed]",
      "text/plain": [
       "<Figure size 288x288 with 2 Axes>"
      ]
     },
     "metadata": {
      "needs_background": "light"
     },
     "output_type": "display_data"
    }
   ],
   "source": [
    "from cm_plot import *\n",
    "cm_plot(y_train, model.predict(x_train)).show() # cm_plot是自定义的画混淆矩阵的函数"
   ]
  },
  {
   "cell_type": "code",
   "execution_count": 12,
   "metadata": {},
   "outputs": [
    {
     "data": {
      "image/png": "[encoded data removed]",
      "text/plain": [
       "<Figure size 288x288 with 2 Axes>"
      ]
     },
     "metadata": {
      "needs_background": "light"
     },
     "output_type": "display_data"
    }
   ],
   "source": [
    "from cm_plot import *\n",
    "cm_plot(y_test, model.predict(x_test)).show() # cm_plot是自定义的画混淆矩阵的函数"
   ]
  },
  {
   "cell_type": "code",
   "execution_count": null,
   "metadata": {},
   "outputs": [],
   "source": []
  },
  {
   "cell_type": "code",
   "execution_count": null,
   "metadata": {},
   "outputs": [],
   "source": [
    "\n"
   ]
  },
  {
   "cell_type": "code",
   "execution_count": null,
   "metadata": {},
   "outputs": [],
   "source": []
  },
  {
   "cell_type": "code",
   "execution_count": null,
   "metadata": {},
   "outputs": [],
   "source": []
  },
  {
   "cell_type": "code",
   "execution_count": null,
   "metadata": {},
   "outputs": [],
   "source": []
  },
  {
   "cell_type": "code",
   "execution_count": null,
   "metadata": {},
   "outputs": [],
   "source": []
  }
 ],
 "metadata": {
  "kernelspec": {
   "display_name": "Python 3",
   "language": "python",
   "name": "python3"
  },
  "language_info": {
   "codemirror_mode": {
    "name": "ipython",
    "version": 3
   },
   "file_extension": ".py",
   "mimetype": "text/x-python",
   "name": "python",
   "nbconvert_exporter": "python",
   "pygments_lexer": "ipython3",
   "version": "3.7.3"
  }
 },
 "nbformat": 4,
 "nbformat_minor": 2
}
