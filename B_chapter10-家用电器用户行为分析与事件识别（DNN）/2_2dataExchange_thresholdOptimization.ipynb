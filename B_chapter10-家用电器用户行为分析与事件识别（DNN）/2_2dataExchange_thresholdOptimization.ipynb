{
 "cells": [
  {
   "cell_type": "code",
   "execution_count": 1,
   "metadata": {},
   "outputs": [
    {
     "data": {
      "text/html": [
       "<div>\n",
       "<style>\n",
       "    .dataframe thead tr:only-child th {\n",
       "        text-align: right;\n",
       "    }\n",
       "\n",
       "    .dataframe thead th {\n",
       "        text-align: left;\n",
       "    }\n",
       "\n",
       "    .dataframe tbody tr th {\n",
       "        vertical-align: top;\n",
       "    }\n",
       "</style>\n",
       "<table border=\"1\" class=\"dataframe\">\n",
       "  <thead>\n",
       "    <tr style=\"text-align: right;\">\n",
       "      <th></th>\n",
       "      <th>发生时间</th>\n",
       "      <th>开关机状态</th>\n",
       "      <th>加热中</th>\n",
       "      <th>保温中</th>\n",
       "      <th>实际温度</th>\n",
       "      <th>热水量</th>\n",
       "      <th>水流量</th>\n",
       "      <th>加热剩余时间</th>\n",
       "      <th>当前设置温度</th>\n",
       "      <th>用水停顿时间间隔</th>\n",
       "      <th>事件编号</th>\n",
       "    </tr>\n",
       "  </thead>\n",
       "  <tbody>\n",
       "    <tr>\n",
       "      <th>18742</th>\n",
       "      <td>2014-11-10 22:00:38</td>\n",
       "      <td>开</td>\n",
       "      <td>开</td>\n",
       "      <td>关</td>\n",
       "      <td>37°C</td>\n",
       "      <td>25%</td>\n",
       "      <td>26</td>\n",
       "      <td>17分钟</td>\n",
       "      <td>50°C</td>\n",
       "      <td>0.033333</td>\n",
       "      <td>170</td>\n",
       "    </tr>\n",
       "    <tr>\n",
       "      <th>18743</th>\n",
       "      <td>2014-11-10 22:00:42</td>\n",
       "      <td>开</td>\n",
       "      <td>开</td>\n",
       "      <td>关</td>\n",
       "      <td>37°C</td>\n",
       "      <td>25%</td>\n",
       "      <td>23</td>\n",
       "      <td>17分钟</td>\n",
       "      <td>50°C</td>\n",
       "      <td>0.066667</td>\n",
       "      <td>170</td>\n",
       "    </tr>\n",
       "    <tr>\n",
       "      <th>18744</th>\n",
       "      <td>2014-11-10 22:00:46</td>\n",
       "      <td>开</td>\n",
       "      <td>开</td>\n",
       "      <td>关</td>\n",
       "      <td>37°C</td>\n",
       "      <td>25%</td>\n",
       "      <td>25</td>\n",
       "      <td>17分钟</td>\n",
       "      <td>50°C</td>\n",
       "      <td>0.066667</td>\n",
       "      <td>170</td>\n",
       "    </tr>\n",
       "    <tr>\n",
       "      <th>18798</th>\n",
       "      <td>2014-11-10 22:19:43</td>\n",
       "      <td>开</td>\n",
       "      <td>关</td>\n",
       "      <td>开</td>\n",
       "      <td>50°C</td>\n",
       "      <td>50%</td>\n",
       "      <td>8</td>\n",
       "      <td>0分钟</td>\n",
       "      <td>50°C</td>\n",
       "      <td>18.950000</td>\n",
       "      <td>171</td>\n",
       "    </tr>\n",
       "    <tr>\n",
       "      <th>18800</th>\n",
       "      <td>2014-11-10 22:49:07</td>\n",
       "      <td>开</td>\n",
       "      <td>关</td>\n",
       "      <td>开</td>\n",
       "      <td>50°C</td>\n",
       "      <td>50%</td>\n",
       "      <td>8</td>\n",
       "      <td>0分钟</td>\n",
       "      <td>50°C</td>\n",
       "      <td>29.400000</td>\n",
       "      <td>172</td>\n",
       "    </tr>\n",
       "  </tbody>\n",
       "</table>\n",
       "</div>"
      ],
      "text/plain": [
       "                     发生时间 开关机状态 加热中 保温中  实际温度  热水量  水流量 加热剩余时间 当前设置温度  \\\n",
       "18742 2014-11-10 22:00:38     开   开   关  37°C  25%   26   17分钟   50°C   \n",
       "18743 2014-11-10 22:00:42     开   开   关  37°C  25%   23   17分钟   50°C   \n",
       "18744 2014-11-10 22:00:46     开   开   关  37°C  25%   25   17分钟   50°C   \n",
       "18798 2014-11-10 22:19:43     开   关   开  50°C  50%    8    0分钟   50°C   \n",
       "18800 2014-11-10 22:49:07     开   关   开  50°C  50%    8    0分钟   50°C   \n",
       "\n",
       "        用水停顿时间间隔  事件编号  \n",
       "18742   0.033333   170  \n",
       "18743   0.066667   170  \n",
       "18744   0.066667   170  \n",
       "18798  18.950000   171  \n",
       "18800  29.400000   172  "
      ]
     },
     "execution_count": 1,
     "metadata": {},
     "output_type": "execute_result"
    }
   ],
   "source": [
    "# dataExchange_thresholdOptimization.py\n",
    "# -*- utf-8 -*-\n",
    "# 用水事件阈值寻优模型\n",
    "# 第一步：确定阈值的变化与划分得到的事件个数关系\n",
    "\n",
    "import pandas as pd\n",
    "import numpy as np\n",
    "from pandas import DataFrame\n",
    "import matplotlib.pyplot as plt\n",
    "\n",
    "\n",
    "inputfile = 'dataExchange_divideEvent.xlsx'\n",
    "data = pd.read_excel(inputfile)\n",
    "data.tail()"
   ]
  },
  {
   "cell_type": "code",
   "execution_count": 2,
   "metadata": {
    "collapsed": true
   },
   "outputs": [],
   "source": [
    "data.drop([u'事件编号'],axis=1,inplace = True)\n",
    "data.to_excel('thresholdOptimization.xlsx')"
   ]
  },
  {
   "cell_type": "code",
   "execution_count": 4,
   "metadata": {
    "scrolled": true
   },
   "outputs": [
    {
     "data": {
      "text/plain": [
       "2.25    197\n",
       "2.50    194\n",
       "2.75    191\n",
       "3.00    186\n",
       "3.25    181\n",
       "3.50    178\n",
       "3.75    174\n",
       "4.00    172\n",
       "4.25    172\n",
       "4.50    171\n",
       "4.75    171\n",
       "5.00    171\n",
       "5.25    169\n",
       "5.50    164\n",
       "5.75    164\n",
       "6.00    163\n",
       "6.25    161\n",
       "6.50    159\n",
       "6.75    158\n",
       "7.00    158\n",
       "7.25    158\n",
       "7.50    155\n",
       "7.75    154\n",
       "8.00    153\n",
       "dtype: int64"
      ]
     },
     "execution_count": 4,
     "metadata": {},
     "output_type": "execute_result"
    }
   ],
   "source": [
    "#确定阈值与事件数的关系\n",
    "#****************************\n",
    "#@1  目标：确定阈值的变化与划分得到的事件个数关系\n",
    "#    方法：通过频率分布直方图\n",
    "#****************************\n",
    "timedeltalist = np.arange(2.25,8.25,0.25)\n",
    "# 从2.25到8.25间，以间隔为0.25，确定阈值即，阈值范围为[2.25,2.5,2.75,3,...,7.75,8]\n",
    "counts = [] # 记录不同阈值下的事件个数\n",
    "for i in range(len(timedeltalist)):\n",
    "    threshold = pd.Timedelta(minutes = timedeltalist[i])#阈值为四分钟\n",
    "    d = data[u'发生时间'].diff() > threshold #  # 相邻时间做差分，比较是否大于阈值\n",
    "    data[u'事件编号'] = d.cumsum() + 1 # 通过累积求和的方式为事件编号\n",
    "    temp = data[u'事件编号'].max()\n",
    "    counts.append(temp)\n",
    "coun = pd.Series(counts, index=timedeltalist)\n",
    "coun"
   ]
  },
  {
   "cell_type": "code",
   "execution_count": 5,
   "metadata": {},
   "outputs": [
    {
     "data": {
      "image/png": "[encoded data removed]",
      "text/plain": [
       "<matplotlib.figure.Figure at 0xa141588>"
      ]
     },
     "metadata": {},
     "output_type": "display_data"
    }
   ],
   "source": [
    "# 画频率分布直方图\n",
    "#将阈值与对应的事件数绘制成频率分布直方图，以确定最优阈值\n",
    "\n",
    "plt.rcParams['font.sans-serif']=['SimHei']\n",
    "plt.rcParams['axes.unicode_minus']= False\n",
    "plt.rc('figure', figsize=(8,6))\n",
    "np.set_printoptions(precision=4)\n",
    "fig = plt.figure()\n",
    "fig.set(alpha=0.2)#设置图标透明度\n",
    "ax = fig.add_subplot(1,1,1)\n",
    "# coun.plot(linestyle='-.',color='r',marker='<')\n",
    "coun.plot(style='-.r*')#同上\n",
    "ax.locator_params('x',nbins = int(len(coun)/2)+1)  # (****)\n",
    "ax.set_xlabel(u'用水事件间隔阈值(分钟)')\n",
    "ax.set_ylabel(u'事件数（个）')\n",
    "ax.grid(axis='y',linestyle='--') # (****)\n",
    "plt.savefig('threshold_numofCase.jpg')\n",
    "plt.show()\n"
   ]
  },
  {
   "cell_type": "code",
   "execution_count": 6,
   "metadata": {
    "collapsed": true,
    "scrolled": false
   },
   "outputs": [],
   "source": [
    "# 由上图可知，图像趋势平缓说明用户的停顿习惯趋于稳定，所以取该段时间开始作为阈值，既不会将短的用水时间合并，也不会将长的用水时间拆开\n",
    "# 因此，最后选取一次用水时间间隔阈值为4分钟\n",
    "# 利用阈值的斜率指标来作为某点的斜率指标\n",
    "# 第二步：阈值优化\n",
    "#****************************\n",
    "#@2  目标：确定阈值的变化与划分得到的事件个数关系\n",
    "#    方法：通过图像中斜率指标\n",
    "#****************************\n",
    "\n",
    "# 当存在阈值的斜率指标 k<KS :\n",
    "#     取阈值最小的点A（可能存在多个阈值的斜率指标小于1）的横坐标x作为用水事件划分的阈值（该值是经过实验数据验证的专家阈值）\n",
    "# 当不存在阈值的斜率指标 k<KS：\n",
    "#     找所有阈值中“斜率指标最小”的阈值t1：\n",
    "#     若：该阈值t1对应的斜率指标小于KS2：\n",
    "#         则取该阈值作为用水事件划分的阈值\n",
    "#     若：该阈值t1对应的斜率指标不小于KS2\n",
    "#         则阈值取默认值——4分钟\n",
    "# 备注：\n",
    "# KS是评价斜率指标用的专家阈值1\n",
    "# KS是评价斜率指标用的专家阈值2\n",
    "\n",
    "data = pd.read_excel('thresholdOptimization.xlsx')\n",
    "n = 4 #使用以后四个点的平均斜率\n",
    "KS = 1 # 专家阈值1\n",
    "KS2 = 5 # 专家阈值2"
   ]
  },
  {
   "cell_type": "code",
   "execution_count": 7,
   "metadata": {},
   "outputs": [
    {
     "name": "stderr",
     "output_type": "stream",
     "text": [
      "D:\\Anaconda2\\lib\\site-packages\\ipykernel_launcher.py:9: FutureWarning: pd.rolling_mean is deprecated for Series and will be removed in a future version, replace with \n",
      "\tSeries.rolling(window=4,center=False).mean()\n",
      "  if __name__ == '__main__':\n",
      "D:\\Anaconda2\\lib\\site-packages\\ipykernel_launcher.py:12: SettingWithCopyWarning: \n",
      "A value is trying to be set on a copy of a slice from a DataFrame\n",
      "\n",
      "See the caveats in the documentation: http://pandas.pydata.org/pandas-docs/stable/indexing.html#indexing-view-versus-copy\n",
      "  if sys.path[0] == '':\n"
     ]
    }
   ],
   "source": [
    "def event_num(ts):\n",
    "    d = data[u'发生时间'].diff() > ts # 相邻时间做差分，比较是否大于阈值（*****）\n",
    "    return d.sum()+1 # 直接返回事件数（*****）\n",
    "\n",
    "dt = [pd.Timedelta(minutes = i) for i in np.arange(1,9,0.25)]#（***）\n",
    "h = DataFrame(dt,columns = [u'阈值']) # 定义阈值列（**）\n",
    "h[u'事件数'] = h[u'阈值'].apply(event_num) # 计算每个阈值对应的事件数（*****）\n",
    "h[u'斜率'] = h[u'事件数'].diff()/0.25 # 计算每个相邻点对应的斜率（****）\n",
    "h[u'斜率指标偏移前'] = pd.rolling_mean(h[u'斜率'].abs(), n)# 采用当前指标和后n个指标斜率的绝对值的平均作为当前指标的斜率\n",
    "\n",
    "h[u'斜率指标'] = np.nan\n",
    "h[u'斜率指标'][:-4] = h[u'斜率指标偏移前'] [4:]"
   ]
  },
  {
   "cell_type": "code",
   "execution_count": 8,
   "metadata": {},
   "outputs": [
    {
     "name": "stdout",
     "output_type": "stream",
     "text": [
      "当前时间最优时间间隔为4.0分钟\n"
     ]
    }
   ],
   "source": [
    "mink = h[u'斜率指标'][h[u'斜率指标'] < KS]# 斜率指标小于1的值的集合\n",
    "mink1 = h[u'斜率指标'][h[u'斜率指标'] < KS2]# 斜率指标小于5的值的集合\n",
    "\n",
    "if list(mink): # 斜率指标值小于1不为空时，即，存在斜率指标值小于1时\n",
    "    minky = [h[u'阈值'][i] for i in mink.index]# 取“阈值最小”的点A所对应的间隔时间作为ts\n",
    "    ts = min(minky) #取最小时间为ts\n",
    "elif list(mink1):# 当不存在斜率指标值小于1时,找所有阈值中“斜率指标最小”的阈值\n",
    "    t1 = h[u'阈值'][h[u'斜率指标'].idxmin()] #“斜率指标最小”的阈值t1\n",
    "    # ts = h[u'阈值'][h[u'斜率指标偏移前'].idxmin() - n] #等价于前一行作用（*****）\n",
    "    # 备注：用idxmin返回最小值的Index，由于rolling_mean自动计算的是前n个斜率的绝对值的平均，所以结果要平移-n，得到偏移后的各个值的斜率指标，注意：最后四个值没有斜率指标因为找不出在它以后的四个更长的值\n",
    "    if h[u'斜率指标'].min()<5:\n",
    "        ts = t1#当该阈值的斜率指标小于5，则取该阈值作为用水事件划分的阈值\n",
    "    else:\n",
    "        ts = pd.Timedelta(minutes = 4)# 当该阈值的斜率指标不小于5，则阈值取默认值——4分钟\n",
    "\n",
    "tm = ts/np.timedelta64(1, 'm')\n",
    "\n",
    "print \"当前时间最优时间间隔为%s分钟\" % tm"
   ]
  },
  {
   "cell_type": "code",
   "execution_count": 9,
   "metadata": {},
   "outputs": [
    {
     "data": {
      "text/plain": [
       "172"
      ]
     },
     "execution_count": 9,
     "metadata": {},
     "output_type": "execute_result"
    }
   ],
   "source": [
    "coun[4.00] # 可知，当最优时间是4分钟时，事件数是172个"
   ]
  },
  {
   "cell_type": "code",
   "execution_count": null,
   "metadata": {},
   "outputs": [],
   "source": []
  },
  {
   "cell_type": "code",
   "execution_count": null,
   "metadata": {
    "collapsed": true
   },
   "outputs": [],
   "source": []
  },
  {
   "cell_type": "code",
   "execution_count": null,
   "metadata": {
    "collapsed": true
   },
   "outputs": [],
   "source": []
  }
 ],
 "metadata": {
  "kernelspec": {
   "display_name": "Python 2",
   "language": "python",
   "name": "python2"
  },
  "language_info": {
   "codemirror_mode": {
    "name": "ipython",
    "version": 2
   },
   "file_extension": ".py",
   "mimetype": "text/x-python",
   "name": "python",
   "nbconvert_exporter": "python",
   "pygments_lexer": "ipython2",
   "version": "2.7.13"
  }
 },
 "nbformat": 4,
 "nbformat_minor": 2
}
